{
 "cells": [
  {
   "cell_type": "markdown",
   "metadata": {},
   "source": [
    "#### Sachid Deshmukh\n",
    "#### Data612- Assignment-3\n",
    "#### 06/24/2019\n",
    "###### Reference - https://nbviewer.jupyter.org/github/albertauyeung/matrix-factorization-in-python/blob/master/mf.ipynb"
   ]
  },
  {
   "cell_type": "markdown",
   "metadata": {},
   "source": [
    "#### Import required libraries"
   ]
  },
  {
   "cell_type": "code",
   "execution_count": 98,
   "metadata": {},
   "outputs": [],
   "source": [
    "%matplotlib inline\n",
    "import matplotlib\n",
    "import matplotlib.pyplot as plt\n",
    "import numpy as np"
   ]
  },
  {
   "cell_type": "markdown",
   "metadata": {},
   "source": [
    "#### Create initial utility matrix 5 users and four movies"
   ]
  },
  {
   "cell_type": "code",
   "execution_count": 99,
   "metadata": {},
   "outputs": [],
   "source": [
    "utilitymatrix = np.array([\n",
    "    [4, 5, 2, 5],\n",
    "    [3, 0, 0, 4],\n",
    "    [0, 4, 4, 2],\n",
    "    [3, 0, 0, 4],\n",
    "    [2, 3, 3, 5],\n",
    "])\n",
    "\n",
    "features=2\n",
    "nusers, nitems = utilitymatrix.shape\n",
    "iterations=50\n",
    "alpha=0.1\n",
    "beta=0.1"
   ]
  },
  {
   "cell_type": "markdown",
   "metadata": {},
   "source": [
    "#### Create user factors and item factors. Calculate global mean, userbias, itembias"
   ]
  },
  {
   "cell_type": "code",
   "execution_count": 100,
   "metadata": {},
   "outputs": [],
   "source": [
    "userfactors = np.random.normal(scale=1/features, size=(nusers, features))\n",
    "itemfactors = np.random.normal(scale=1/features, size=(nitems, features))\n",
    "userbias = np.zeros(nusers)\n",
    "itembias = np.zeros(nitems)\n",
    "globalmean = np.mean(utilitymatrix[np.where(utilitymatrix != 0)])\n",
    "samples = [\n",
    "            (i, j, utilitymatrix[i, j])\n",
    "            for i in range(nusers)\n",
    "            for j in range(nitems)\n",
    "            if utilitymatrix[i, j] > 0\n",
    "        ]\n"
   ]
  },
  {
   "cell_type": "markdown",
   "metadata": {},
   "source": [
    "#### Utility function to calculate MSE"
   ]
  },
  {
   "cell_type": "code",
   "execution_count": 101,
   "metadata": {},
   "outputs": [],
   "source": [
    "def mse(utilitymatrix, predictedmatrix):\n",
    "    xs, ys = utilitymatrix.nonzero()\n",
    "    error = 0\n",
    "    for x, y in zip(xs, ys):\n",
    "        error += pow(utilitymatrix[x, y] - predictedmatrix[x, y], 2)\n",
    "    return np.sqrt(error)"
   ]
  },
  {
   "cell_type": "markdown",
   "metadata": {},
   "source": [
    "#### Stochastic gradient descent. Iterative way to calculate User factors and Item factors which minimizes MSE"
   ]
  },
  {
   "cell_type": "code",
   "execution_count": 102,
   "metadata": {},
   "outputs": [
    {
     "name": "stdout",
     "output_type": "stream",
     "text": [
      "Iteration: 10 ; error = 1.8563\n",
      "Iteration: 20 ; error = 1.0361\n",
      "Iteration: 30 ; error = 0.4987\n",
      "Iteration: 40 ; error = 0.4683\n",
      "Iteration: 50 ; error = 0.4734\n"
     ]
    }
   ],
   "source": [
    "# Perform stochastic gradient descent for number of iterations\n",
    "training_process = []\n",
    "for itern in range(iterations):\n",
    "    np.random.shuffle(samples)\n",
    "    for i, j, r in samples:\n",
    "            # Computer prediction and error\n",
    "            prediction = globalmean + userbias[i] + itembias[j] + userfactors[i, :].dot(itemfactors[j, :].T)\n",
    "            e = (r - prediction)\n",
    "            \n",
    "            # Update biases\n",
    "            userbias[i] += alpha * (e - beta * userbias[i])\n",
    "            itembias[j] += alpha * (e - beta * itembias[j])\n",
    "            \n",
    "            # Create copy of row of P since we need to update it but use older values for update on Q\n",
    "            userfactors_copy = userfactors[i, :][:]\n",
    "            \n",
    "            # Update user and item latent feature matrices\n",
    "            userfactors[i, :] += alpha * (e * itemfactors[j, :] - beta * userfactors[i,:])\n",
    "            itemfactors[j, :] += alpha * (e * userfactors_copy - beta * itemfactors[j,:])\n",
    "    \n",
    "    predictedmatrix = globalmean + userbias[:,np.newaxis] + itembias[np.newaxis:,] + userfactors.dot(itemfactors.T)\n",
    "    error = mse(utilitymatrix, predictedmatrix)\n",
    "    training_process.append((itern, error))\n",
    "    if (itern+1) % 10 == 0:\n",
    "        print(\"Iteration: %d ; error = %.4f\" % (itern+1, error))\n"
   ]
  },
  {
   "cell_type": "code",
   "execution_count": 103,
   "metadata": {},
   "outputs": [
    {
     "data": {
      "text/plain": [
       "array([[ 0.09086561, -1.09584468],\n",
       "       [-0.13080918,  0.36017526],\n",
       "       [ 0.83857566,  0.92284995],\n",
       "       [-0.06678657, -0.02425626],\n",
       "       [-1.12957237,  0.07554947]])"
      ]
     },
     "execution_count": 103,
     "metadata": {},
     "output_type": "execute_result"
    }
   ],
   "source": [
    "#Print User Factors\n",
    "userfactors"
   ]
  },
  {
   "cell_type": "code",
   "execution_count": 104,
   "metadata": {},
   "outputs": [
    {
     "data": {
      "text/plain": [
       "array([[ 0.55614541, -0.41280969],\n",
       "       [ 0.62477988, -0.38126844],\n",
       "       [ 0.0116792 ,  1.15412104],\n",
       "       [-1.0083313 , -0.66110014]])"
      ]
     },
     "execution_count": 104,
     "metadata": {},
     "output_type": "execute_result"
    }
   ],
   "source": [
    "#print Item Factors\n",
    "itemfactors"
   ]
  },
  {
   "cell_type": "code",
   "execution_count": 105,
   "metadata": {},
   "outputs": [
    {
     "data": {
      "text/plain": [
       "array([[4, 5, 2, 5],\n",
       "       [3, 0, 0, 4],\n",
       "       [0, 4, 4, 2],\n",
       "       [3, 0, 0, 4],\n",
       "       [2, 3, 3, 5]])"
      ]
     },
     "execution_count": 105,
     "metadata": {},
     "output_type": "execute_result"
    }
   ],
   "source": [
    "#print original utility matrix\n",
    "utilitymatrix"
   ]
  },
  {
   "cell_type": "code",
   "execution_count": 106,
   "metadata": {},
   "outputs": [
    {
     "data": {
      "text/plain": [
       "array([[3.92408297, 4.85616891, 2.19340859, 4.87978136],\n",
       "       [3.03377598, 3.99657206, 3.70527839, 3.97476355],\n",
       "       [2.88909562, 3.93617238, 3.91447301, 2.17379643],\n",
       "       [3.03434624, 3.98941104, 3.06861296, 3.97062261],\n",
       "       [2.21123094, 3.09649999, 2.98053727, 4.78543014]])"
      ]
     },
     "execution_count": 106,
     "metadata": {},
     "output_type": "execute_result"
    }
   ],
   "source": [
    "#print predicted matrix\n",
    "predictedmatrix"
   ]
  },
  {
   "cell_type": "markdown",
   "metadata": {},
   "source": [
    "#### If we compare original utility matrix with calculated predicted matrix, we can see that actual known ratings are very close to predicted ratings. We can also see unknown ratigs are calculated as a function of global mean, user bias, item bias and dot product of user factors and item factors"
   ]
  },
  {
   "cell_type": "markdown",
   "metadata": {},
   "source": [
    "#### If we plot MSE vs Iterations we can see that MSE decreases rapidly with no of iterations initially. Howerer after certain number of iterations there is less change in MSE"
   ]
  },
  {
   "cell_type": "code",
   "execution_count": 107,
   "metadata": {},
   "outputs": [
    {
     "data": {
      "image/png": "[encoded data removed]",
      "text/plain": [
       "<Figure size 1152x288 with 1 Axes>"
      ]
     },
     "metadata": {
      "needs_background": "light"
     },
     "output_type": "display_data"
    }
   ],
   "source": [
    "x = [x for x, y in training_process]\n",
    "y = [y for x, y in training_process]\n",
    "plt.figure(figsize=((16,4)))\n",
    "plt.plot(x, y)\n",
    "plt.xticks(x, x)\n",
    "plt.xlabel(\"Iterations\")\n",
    "plt.ylabel(\"Mean Square Error\")\n",
    "plt.grid(axis=\"y\")"
   ]
  }
 ],
 "metadata": {
  "kernelspec": {
   "display_name": "Python 3",
   "language": "python",
   "name": "python3"
  },
  "language_info": {
   "codemirror_mode": {
    "name": "ipython",
    "version": 3
   },
   "file_extension": ".py",
   "mimetype": "text/x-python",
   "name": "python",
   "nbconvert_exporter": "python",
   "pygments_lexer": "ipython3",
   "version": "3.6.8"
  }
 },
 "nbformat": 4,
 "nbformat_minor": 2
}
