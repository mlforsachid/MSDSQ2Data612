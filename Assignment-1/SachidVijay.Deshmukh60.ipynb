{
 "cells": [
  {
   "cell_type": "markdown",
   "metadata": {},
   "source": [
    "### Student Name: Sachid Deshmukh\n",
    "### Data 612 Recommender System Assignment-1\n",
    "### Date 06/08/2019"
   ]
  },
  {
   "cell_type": "markdown",
   "metadata": {},
   "source": [
    "### We are developing a recommender system which will recommend Books to users. In this exercise we are leveraging a toy dataset which contains five users and their ratings to five books"
   ]
  },
  {
   "cell_type": "code",
   "execution_count": 137,
   "metadata": {},
   "outputs": [],
   "source": [
    "import numpy as np\n",
    "import pandas as pd\n",
    "import random"
   ]
  },
  {
   "cell_type": "markdown",
   "metadata": {},
   "source": [
    "### Build toy dataset"
   ]
  },
  {
   "cell_type": "code",
   "execution_count": 138,
   "metadata": {},
   "outputs": [
    {
     "data": {
      "text/html": [
       "<div>\n",
       "<style scoped>\n",
       "    .dataframe tbody tr th:only-of-type {\n",
       "        vertical-align: middle;\n",
       "    }\n",
       "\n",
       "    .dataframe tbody tr th {\n",
       "        vertical-align: top;\n",
       "    }\n",
       "\n",
       "    .dataframe thead th {\n",
       "        text-align: right;\n",
       "    }\n",
       "</style>\n",
       "<table border=\"1\" class=\"dataframe\">\n",
       "  <thead>\n",
       "    <tr style=\"text-align: right;\">\n",
       "      <th></th>\n",
       "      <th>User</th>\n",
       "      <th>Signal and the Noise</th>\n",
       "      <th>Data Science for Business</th>\n",
       "      <th>Automated Data Collection with R</th>\n",
       "      <th>R for Data Science</th>\n",
       "      <th>Introduction to Statistical Learning</th>\n",
       "    </tr>\n",
       "  </thead>\n",
       "  <tbody>\n",
       "    <tr>\n",
       "      <th>0</th>\n",
       "      <td>John</td>\n",
       "      <td>5</td>\n",
       "      <td>4</td>\n",
       "      <td>4</td>\n",
       "      <td>5</td>\n",
       "      <td>3</td>\n",
       "    </tr>\n",
       "    <tr>\n",
       "      <th>1</th>\n",
       "      <td>Daisy</td>\n",
       "      <td>4</td>\n",
       "      <td>4</td>\n",
       "      <td>1</td>\n",
       "      <td>4</td>\n",
       "      <td>5</td>\n",
       "    </tr>\n",
       "    <tr>\n",
       "      <th>2</th>\n",
       "      <td>Amit</td>\n",
       "      <td>3</td>\n",
       "      <td>3</td>\n",
       "      <td>5</td>\n",
       "      <td>5</td>\n",
       "      <td>4</td>\n",
       "    </tr>\n",
       "    <tr>\n",
       "      <th>3</th>\n",
       "      <td>Abrahaim</td>\n",
       "      <td>3</td>\n",
       "      <td>5</td>\n",
       "      <td>3</td>\n",
       "      <td>4</td>\n",
       "      <td>3</td>\n",
       "    </tr>\n",
       "    <tr>\n",
       "      <th>4</th>\n",
       "      <td>Peter</td>\n",
       "      <td>5</td>\n",
       "      <td>3</td>\n",
       "      <td>3</td>\n",
       "      <td>5</td>\n",
       "      <td>2</td>\n",
       "    </tr>\n",
       "  </tbody>\n",
       "</table>\n",
       "</div>"
      ],
      "text/plain": [
       "       User  Signal and the Noise  Data Science for Business  \\\n",
       "0      John                     5                          4   \n",
       "1     Daisy                     4                          4   \n",
       "2      Amit                     3                          3   \n",
       "3  Abrahaim                     3                          5   \n",
       "4     Peter                     5                          3   \n",
       "\n",
       "   Automated Data Collection with R  R for Data Science  \\\n",
       "0                                 4                   5   \n",
       "1                                 1                   4   \n",
       "2                                 5                   5   \n",
       "3                                 3                   4   \n",
       "4                                 3                   5   \n",
       "\n",
       "   Introduction to Statistical Learning  \n",
       "0                                     3  \n",
       "1                                     5  \n",
       "2                                     4  \n",
       "3                                     3  \n",
       "4                                     2  "
      ]
     },
     "execution_count": 138,
     "metadata": {},
     "output_type": "execute_result"
    }
   ],
   "source": [
    "splitFlag = np.array([0,1,1,1,1,1,1,0,0,1,1,1,1,0,1,0,1,1,1,1,1,1,0,0,1]).reshape(5,5)\n",
    "name = [\"John\", \"Daisy\", \"Amit\", \"Abrahaim\", \"Peter\"]\n",
    "movie1 = list(np.random.randint(3,6,5))\n",
    "movie2 = list(np.random.randint(3,6,5))\n",
    "movie3 = list(np.random.randint(1,6,5))\n",
    "movie4 = list(np.random.randint(4,6,5))\n",
    "movie5 = list(np.random.randint(2,6,5))\n",
    "data = pd.DataFrame(zip(name, movie1, movie2, movie3, movie4, movie5), columns=[\"User\",\"Signal and the Noise\", \"Data Science for Business\", \"Automated Data Collection with R\", \"R for Data Science\", \"Introduction to Statistical Learning\"])\n",
    "data.head(10)\n"
   ]
  },
  {
   "cell_type": "markdown",
   "metadata": {},
   "source": [
    "### Create a toy dataset and split it into train and test set"
   ]
  },
  {
   "cell_type": "code",
   "execution_count": 139,
   "metadata": {},
   "outputs": [],
   "source": [
    "\n",
    "data_train = pd.DataFrame(index = data.index, columns = data.columns)\n",
    "data_train['User'] = data['User']\n",
    "data_test = pd.DataFrame(index = data.index, columns = data.columns)\n",
    "data_test['User'] = data['User']\n",
    "for i in range(data.shape[0]):\n",
    "    for j in range(1,data.shape[1]):\n",
    "        if splitFlag[i][j-1]:\n",
    "            data_train.iloc[i][j] = data.iloc[i][j]\n",
    "        else:\n",
    "            data_test.iloc[i][j] = data.iloc[i][j]\n"
   ]
  },
  {
   "cell_type": "code",
   "execution_count": 140,
   "metadata": {},
   "outputs": [
    {
     "data": {
      "text/html": [
       "<div>\n",
       "<style scoped>\n",
       "    .dataframe tbody tr th:only-of-type {\n",
       "        vertical-align: middle;\n",
       "    }\n",
       "\n",
       "    .dataframe tbody tr th {\n",
       "        vertical-align: top;\n",
       "    }\n",
       "\n",
       "    .dataframe thead th {\n",
       "        text-align: right;\n",
       "    }\n",
       "</style>\n",
       "<table border=\"1\" class=\"dataframe\">\n",
       "  <thead>\n",
       "    <tr style=\"text-align: right;\">\n",
       "      <th></th>\n",
       "      <th>User</th>\n",
       "      <th>Signal and the Noise</th>\n",
       "      <th>Data Science for Business</th>\n",
       "      <th>Automated Data Collection with R</th>\n",
       "      <th>R for Data Science</th>\n",
       "      <th>Introduction to Statistical Learning</th>\n",
       "    </tr>\n",
       "  </thead>\n",
       "  <tbody>\n",
       "    <tr>\n",
       "      <th>0</th>\n",
       "      <td>John</td>\n",
       "      <td>NaN</td>\n",
       "      <td>4</td>\n",
       "      <td>4</td>\n",
       "      <td>5</td>\n",
       "      <td>3</td>\n",
       "    </tr>\n",
       "    <tr>\n",
       "      <th>1</th>\n",
       "      <td>Daisy</td>\n",
       "      <td>4</td>\n",
       "      <td>4</td>\n",
       "      <td>NaN</td>\n",
       "      <td>NaN</td>\n",
       "      <td>5</td>\n",
       "    </tr>\n",
       "    <tr>\n",
       "      <th>2</th>\n",
       "      <td>Amit</td>\n",
       "      <td>3</td>\n",
       "      <td>3</td>\n",
       "      <td>5</td>\n",
       "      <td>NaN</td>\n",
       "      <td>4</td>\n",
       "    </tr>\n",
       "    <tr>\n",
       "      <th>3</th>\n",
       "      <td>Abrahaim</td>\n",
       "      <td>NaN</td>\n",
       "      <td>5</td>\n",
       "      <td>3</td>\n",
       "      <td>4</td>\n",
       "      <td>3</td>\n",
       "    </tr>\n",
       "    <tr>\n",
       "      <th>4</th>\n",
       "      <td>Peter</td>\n",
       "      <td>5</td>\n",
       "      <td>3</td>\n",
       "      <td>NaN</td>\n",
       "      <td>NaN</td>\n",
       "      <td>2</td>\n",
       "    </tr>\n",
       "  </tbody>\n",
       "</table>\n",
       "</div>"
      ],
      "text/plain": [
       "       User Signal and the Noise Data Science for Business  \\\n",
       "0      John                  NaN                         4   \n",
       "1     Daisy                    4                         4   \n",
       "2      Amit                    3                         3   \n",
       "3  Abrahaim                  NaN                         5   \n",
       "4     Peter                    5                         3   \n",
       "\n",
       "  Automated Data Collection with R R for Data Science  \\\n",
       "0                                4                  5   \n",
       "1                              NaN                NaN   \n",
       "2                                5                NaN   \n",
       "3                                3                  4   \n",
       "4                              NaN                NaN   \n",
       "\n",
       "  Introduction to Statistical Learning  \n",
       "0                                    3  \n",
       "1                                    5  \n",
       "2                                    4  \n",
       "3                                    3  \n",
       "4                                    2  "
      ]
     },
     "execution_count": 140,
     "metadata": {},
     "output_type": "execute_result"
    }
   ],
   "source": [
    "data_train.head()\n",
    "#data_test.head()"
   ]
  },
  {
   "cell_type": "markdown",
   "metadata": {},
   "source": [
    "### Calculate Raw average on training dataset"
   ]
  },
  {
   "cell_type": "code",
   "execution_count": 141,
   "metadata": {},
   "outputs": [
    {
     "data": {
      "text/plain": [
       "3.8333333333333335"
      ]
     },
     "execution_count": 141,
     "metadata": {},
     "output_type": "execute_result"
    }
   ],
   "source": [
    "def calcRawAvg(df):\n",
    "    movieSum = 0\n",
    "    movieCount = 0\n",
    "    for i in range(df.shape[0]):\n",
    "        for j in range(1, df.shape[1]):\n",
    "            rating = df.iloc[i][j]\n",
    "            if np.isnan(rating) == False:\n",
    "                movieSum = movieSum + rating\n",
    "                movieCount = movieCount + 1\n",
    "    rawAvg = movieSum/movieCount\n",
    "    return rawAvg\n",
    "\n",
    "rawAvg = calcRawAvg(data_train)\n",
    "rawAvg\n",
    "\n",
    "\n"
   ]
  },
  {
   "cell_type": "markdown",
   "metadata": {},
   "source": [
    "### Calculate test and train RMSE using Raw average"
   ]
  },
  {
   "cell_type": "code",
   "execution_count": 142,
   "metadata": {},
   "outputs": [
    {
     "name": "stdout",
     "output_type": "stream",
     "text": [
      "Train RMSE = 0.8975274678557507\n",
      "Test RMSE = 1.39015815019\n"
     ]
    }
   ],
   "source": [
    "def calcRMSE(df, rawAvg):\n",
    "    residuals = []\n",
    "    for i in range(df.shape[0]):\n",
    "        for j in range(1, df.shape[1]):\n",
    "            rating = df.iloc[i][j]\n",
    "            if np.isnan(rating) == False:\n",
    "                residuals.append((rating - rawAvg)**2)\n",
    "    return(np.sqrt(sum(residuals)/len(residuals)))\n",
    "\n",
    "trainRMSE = calcRMSE(data_train, rawAvg)\n",
    "print('Train RMSE = %s' %(trainRMSE))\n",
    "testRMSE = calcRMSE(data_test, rawAvg)\n",
    "print('Test RMSE = %s' %(testRMSE))"
   ]
  },
  {
   "cell_type": "markdown",
   "metadata": {},
   "source": [
    "### Calculate Baseline Predictors for each user and movie"
   ]
  },
  {
   "cell_type": "code",
   "execution_count": 143,
   "metadata": {},
   "outputs": [
    {
     "data": {
      "text/html": [
       "<div>\n",
       "<style scoped>\n",
       "    .dataframe tbody tr th:only-of-type {\n",
       "        vertical-align: middle;\n",
       "    }\n",
       "\n",
       "    .dataframe tbody tr th {\n",
       "        vertical-align: top;\n",
       "    }\n",
       "\n",
       "    .dataframe thead th {\n",
       "        text-align: right;\n",
       "    }\n",
       "</style>\n",
       "<table border=\"1\" class=\"dataframe\">\n",
       "  <thead>\n",
       "    <tr style=\"text-align: right;\">\n",
       "      <th></th>\n",
       "      <th>Ratings</th>\n",
       "      <th>Bias</th>\n",
       "    </tr>\n",
       "    <tr>\n",
       "      <th>Movies</th>\n",
       "      <th></th>\n",
       "      <th></th>\n",
       "    </tr>\n",
       "  </thead>\n",
       "  <tbody>\n",
       "    <tr>\n",
       "      <th>Automated Data Collection with R</th>\n",
       "      <td>4.0</td>\n",
       "      <td>0.166667</td>\n",
       "    </tr>\n",
       "    <tr>\n",
       "      <th>Data Science for Business</th>\n",
       "      <td>3.8</td>\n",
       "      <td>-0.033333</td>\n",
       "    </tr>\n",
       "    <tr>\n",
       "      <th>Introduction to Statistical Learning</th>\n",
       "      <td>3.4</td>\n",
       "      <td>-0.433333</td>\n",
       "    </tr>\n",
       "    <tr>\n",
       "      <th>R for Data Science</th>\n",
       "      <td>4.5</td>\n",
       "      <td>0.666667</td>\n",
       "    </tr>\n",
       "    <tr>\n",
       "      <th>Signal and the Noise</th>\n",
       "      <td>4.0</td>\n",
       "      <td>0.166667</td>\n",
       "    </tr>\n",
       "  </tbody>\n",
       "</table>\n",
       "</div>"
      ],
      "text/plain": [
       "                                      Ratings      Bias\n",
       "Movies                                                 \n",
       "Automated Data Collection with R          4.0  0.166667\n",
       "Data Science for Business                 3.8 -0.033333\n",
       "Introduction to Statistical Learning      3.4 -0.433333\n",
       "R for Data Science                        4.5  0.666667\n",
       "Signal and the Noise                      4.0  0.166667"
      ]
     },
     "execution_count": 143,
     "metadata": {},
     "output_type": "execute_result"
    }
   ],
   "source": [
    "data_train.head()\n",
    "data_train_melt = data_train.melt(id_vars=['User'], value_vars=['Signal and the Noise', 'Data Science for Business', 'Automated Data Collection with R', 'R for Data Science', 'Introduction to Statistical Learning'], var_name='Movies', value_name = \"Ratings\")\n",
    "data_train_melt.head(100)\n",
    "data_train_melt = data_train_melt.dropna()\n",
    "user_mean = pd.DataFrame(data_train_melt.groupby('User')['Ratings'].mean(numeric_only=False))\n",
    "movie_mean = pd.DataFrame(data_train_melt.groupby('Movies')['Ratings'].mean(numeric_only=False))\n",
    "user_bias = user_mean['Ratings'].apply(lambda x: x-rawAvg)\n",
    "user_mean['Bias'] = user_bias\n",
    "\n",
    "movie_bias = movie_mean['Ratings'].apply(lambda x: x-rawAvg)\n",
    "movie_mean['Bias'] = movie_bias\n",
    "movie_mean.head()\n",
    "#user_mean.head()\n",
    "\n"
   ]
  },
  {
   "cell_type": "markdown",
   "metadata": {},
   "source": [
    "### Calculate test and train RMSE using Baseline predictors"
   ]
  },
  {
   "cell_type": "code",
   "execution_count": 144,
   "metadata": {},
   "outputs": [
    {
     "name": "stdout",
     "output_type": "stream",
     "text": [
      "Baseline Train RMSE = 0.78\n",
      "Baseline Test RMSE = 1.53\n"
     ]
    }
   ],
   "source": [
    "def suggestRatings(dfRow):\n",
    "    if dfRow['Ratings'] == 0:\n",
    "        return 0\n",
    "    else:\n",
    "        basePred = rawAvg + user_mean.loc[dfRow['User']]['Bias'] + movie_mean.loc[dfRow['Movies']]['Bias']\n",
    "        if basePred < 1:\n",
    "            return 1\n",
    "        elif basePred > 5:\n",
    "            return 5\n",
    "        else:\n",
    "            return basePred\n",
    "data_test_melt = data_test.melt(id_vars=['User'], value_vars=['Signal and the Noise', 'Data Science for Business', 'Automated Data Collection with R', 'R for Data Science', 'Introduction to Statistical Learning'], var_name='Movies', value_name = \"Ratings\")\n",
    "data_test_melt = data_test_melt.dropna()\n",
    "\n",
    "baseline_Pred_Test = data_test_melt.apply(suggestRatings, axis=1)\n",
    "data_test_melt['BaselinePred'] = baseline_Pred_Test\n",
    "\n",
    "baseline_Pred_Train = data_train_melt.apply(suggestRatings, axis=1)\n",
    "data_train_melt['BaselinePred'] = baseline_Pred_Train\n",
    "data_test_melt.head(100)\n",
    "\n",
    "baseline_train_residuals = np.array((data_train_melt['Ratings'] - data_train_melt['BaselinePred'])**2)\n",
    "baseline_train_rmse = np.sqrt(sum(baseline_train_residuals)/len(baseline_train_residuals))\n",
    "\n",
    "baseline_test_residuals = np.array((data_test_melt['Ratings'] - data_test_melt['BaselinePred'])**2)\n",
    "baseline_test_rmse = np.sqrt(sum(baseline_test_residuals)/len(baseline_test_residuals))\n",
    "print('Baseline Train RMSE = %2.2f' %baseline_train_rmse)\n",
    "print('Baseline Test RMSE = %2.2f' %baseline_test_rmse)"
   ]
  },
  {
   "cell_type": "markdown",
   "metadata": {},
   "source": [
    "### With Raw Average we got Train RMSE of 0.89 and Test RMSE of 1.39. With Baseline predictors we got train RMSE of 0.78 and test RMSE of 1.59\n",
    "\n",
    "### Between Baseline predictros and Raw average there is an improvement of (1- (0.78/0.89)) * 100 = 13% in train rmse\n",
    "\n",
    "### Between Baseline predictors and Raw average there is an improvement of (1- (1.53/1.39)) * 100  = -10% in test rmse\n",
    "\n",
    "### Baseline predictors are performing good on training data but not in the test data. This indicates that model is overfitting to training data set. This is expected since our dataset is so small. If we get larger dataset we can overcome overfitting and we would see that baseline predictors are better predictors on both training and test dataset"
   ]
  },
  {
   "cell_type": "code",
   "execution_count": null,
   "metadata": {},
   "outputs": [],
   "source": []
  }
 ],
 "metadata": {
  "kernelspec": {
   "display_name": "Python 3",
   "language": "python",
   "name": "python3"
  },
  "language_info": {
   "codemirror_mode": {
    "name": "ipython",
    "version": 3
   },
   "file_extension": ".py",
   "mimetype": "text/x-python",
   "name": "python",
   "nbconvert_exporter": "python",
   "pygments_lexer": "ipython3",
   "version": "3.6.8"
  }
 },
 "nbformat": 4,
 "nbformat_minor": 2
}
