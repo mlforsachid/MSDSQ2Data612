{
 "cells": [
  {
   "cell_type": "markdown",
   "metadata": {},
   "source": [
    "#### Name - Sachid Deshmukh\n",
    "#### Date - 07/02/2019\n",
    "#### Data 612 Assignment-4"
   ]
  },
  {
   "cell_type": "markdown",
   "metadata": {},
   "source": [
    "##### In this assignment we will use MovieLens dataset. It has been collected by the GroupLens Research Project at the University of Minnesota. It consists of:\n",
    "\n",
    " - 100,000 ratings (1-5) from 943 users on 1682 movies.\n",
    " - Each user has rated at least 20 movies.\n",
    " - Simple demographic info for the users (age, gender, occupation, zip)\n",
    " - Genre information of movies"
   ]
  },
  {
   "cell_type": "markdown",
   "metadata": {},
   "source": [
    "#### In this assigmnment we will build two recommender systems and access their performance\n",
    "- Recomendation based on global mean and user/movie bias\n",
    "- Recommendation based on Item-Item collaborative filtering\n",
    "#### We will use training set to build a recommender system and evaluate it's performance on the test set. We will use RMSE (Root mean square error) as a measure of model efficiency. Model wil low RMSE will win over model with higher RMSE"
   ]
  },
  {
   "cell_type": "markdown",
   "metadata": {},
   "source": [
    "#### Import necessary libraries"
   ]
  },
  {
   "cell_type": "code",
   "execution_count": 728,
   "metadata": {},
   "outputs": [],
   "source": [
    "import pandas as pd\n",
    "import numpy as np\n",
    "import seaborn as sns\n",
    "import matplotlib.pyplot as plt\n",
    "import math\n",
    "from scipy.spatial.distance import cosine"
   ]
  },
  {
   "cell_type": "markdown",
   "metadata": {},
   "source": [
    "#### Read data. For computational efficiency reduce the train and test data size"
   ]
  },
  {
   "cell_type": "code",
   "execution_count": 729,
   "metadata": {},
   "outputs": [],
   "source": [
    "#Reading ratings file:\n",
    "r_cols = ['user_id', 'movie_id', 'rating', 'unix_timestamp']\n",
    "ratings_base = pd.read_csv('D:/MSDS/MSDSQ3Data612/Assignment-4/Data/ua.base', sep='\\t', names=r_cols, encoding='latin-1')\n",
    "ratings_base1 = ratings_base[ratings_base.movie_id.isin([20,33,61,117,155,160,171,189,202,265])]\n",
    "ratings_base2 = ratings_base[ratings_base.user_id.isin([1])]\n",
    "train = ratings_base1.append(ratings_base2.iloc[:20,:])\n",
    "\n",
    "ratings_test = pd.read_csv('D:/MSDS/MSDSQ3Data612/Assignment-4/Data/ua.test', sep='\\t', names=r_cols, encoding='latin-1')\n",
    "test = ratings_test[ratings_test.user_id.isin([1])]\n",
    "globalmean = np.mean(ratings_base.rating)"
   ]
  },
  {
   "cell_type": "markdown",
   "metadata": {},
   "source": [
    "#### Model-1 Recommendation based on global mean, user bias and movie bias\n",
    "#### Calculate global mean, userbias and movie bias"
   ]
  },
  {
   "cell_type": "code",
   "execution_count": 730,
   "metadata": {},
   "outputs": [],
   "source": [
    "userbias = train.groupby('user_id')['rating'].mean() - globalmean\n",
    "moviebias = train.groupby('movie_id')['rating'].mean() - globalmean\n"
   ]
  },
  {
   "cell_type": "markdown",
   "metadata": {},
   "source": [
    "#### Function to calculate recommendation based on globalmean, userbias and moviebias. We will apply this function on test set to get reccomendation for a given user."
   ]
  },
  {
   "cell_type": "code",
   "execution_count": 731,
   "metadata": {},
   "outputs": [],
   "source": [
    "def reccRating(row):\n",
    "    try:\n",
    "        ub = pd.to_numeric(userbias[row.user_id])\n",
    "        mb = pd.to_numeric(moviebias[row.movie_id])\n",
    "        return globalmean + ub + mb\n",
    "    except:\n",
    "        return globalmean\n",
    "\n",
    "test.loc[:,'recc_rating'] = test.apply(reccRating, axis=1)"
   ]
  },
  {
   "cell_type": "markdown",
   "metadata": {},
   "source": [
    "#### Model-2 Recommendation based on Item-Item collaborative filtering\n",
    "#### Build recommendation model"
   ]
  },
  {
   "cell_type": "code",
   "execution_count": 732,
   "metadata": {},
   "outputs": [],
   "source": [
    "#User Item collaborative Filtering\n",
    "train.drop('unix_timestamp', axis=1, inplace=True)\n",
    "training = train.pivot_table(index=['user_id'], columns=['movie_id'])\n",
    "training.columns = training.columns.droplevel().rename(None)\n",
    "training.fillna(0, inplace=True)"
   ]
  },
  {
   "cell_type": "code",
   "execution_count": 733,
   "metadata": {},
   "outputs": [],
   "source": [
    "#Create dataframe to store Item to Item cosine distance\n",
    "data_ibs = pd.DataFrame(index =training.columns, columns = training.columns)\n",
    "# Lets fill in those empty spaces with cosine similarities\n",
    "# Loop through the columns\n",
    "for i in range(0,len(data_ibs.columns)) :\n",
    "    # Loop through the columns for each column\n",
    "    for j in range(0,len(data_ibs.columns)) :\n",
    "      # Fill in placeholder with cosine similarities\n",
    "      data_ibs.iloc[i,j] = 1-cosine(training.iloc[:,i],training.iloc[:,j])"
   ]
  },
  {
   "cell_type": "code",
   "execution_count": 734,
   "metadata": {},
   "outputs": [],
   "source": [
    "# Create a placeholder items for closes neighbours to an item\n",
    "data_neighbours = pd.DataFrame(index=data_ibs.columns,columns=range(1,11))\n",
    "data_sim = pd.DataFrame(index=data_ibs.columns,columns=range(1,11))\n",
    "# Loop through our similarity dataframe and fill in neighbouring item names\n",
    "for i in range(0,len(data_ibs.columns)):\n",
    "    data_neighbours.iloc[i,:10] = data_ibs.iloc[0:,i].sort_values(ascending=False)[:10].index\n",
    "    data_sim.iloc[i,:10] = data_ibs.iloc[0:,i].sort_values(ascending=False)[:10].values"
   ]
  },
  {
   "cell_type": "markdown",
   "metadata": {},
   "source": [
    "#### Calculate recommendation based on Item-Item collaborative filtering model built above\n",
    "#### For each user-movie combination in test dataset do following\n",
    "- Find nearest neighbors for a movie (top 10 neighbors)\n",
    "- Find cosine distance of those neighbors from the movie being recommended to user\n",
    "- Calculate the movie rating by taking weighted average of neighbors item rating and cosine distance\n",
    "- Weighted average formulae - Recc Rating = sum(neighborsrating * neighbors cosine distance)/sum(neighbors cosine distance)"
   ]
  },
  {
   "cell_type": "code",
   "execution_count": 735,
   "metadata": {},
   "outputs": [],
   "source": [
    "item_recc_rating = []\n",
    "for x in range(test.shape[0]):\n",
    "#for x in range(2):\n",
    "    movie_id = test.iloc[x][1]\n",
    "    neighbors = data_neighbours[data_neighbours.index==movie_id].values\n",
    "    sims = data_sim[data_sim.index==movie_id].values\n",
    "    filterdf = train[train.movie_id.isin(neighbors[0])]\n",
    "    filtagg = filterdf.groupby('movie_id')['rating'].mean()\n",
    "    filtagg.head()\n",
    "    m_rating=[]\n",
    "    for i in range(len(filtagg.index)):\n",
    "        m_rating.append(filtagg.iloc[i] * sims[0][i])\n",
    "        \n",
    "    m_rating = sum(m_rating)/sum(sims[0])\n",
    "    item_recc_rating.append(np.max(m_rating))"
   ]
  },
  {
   "cell_type": "markdown",
   "metadata": {},
   "source": [
    "#### View the test set. Pay attention to recc_rating and Item_recc_rating columns\n",
    "- Column rating represents actual rating give by user to particular movie\n",
    "- Column recc_rating represetns recommendation provided by model-1\n",
    "- Column item_recc_rating represents recommendation provided by model-2"
   ]
  },
  {
   "cell_type": "code",
   "execution_count": 736,
   "metadata": {},
   "outputs": [
    {
     "name": "stderr",
     "output_type": "stream",
     "text": [
      "C:\\ProgramData\\Anaconda3\\lib\\site-packages\\pandas\\core\\indexing.py:362: SettingWithCopyWarning: \n",
      "A value is trying to be set on a copy of a slice from a DataFrame.\n",
      "Try using .loc[row_indexer,col_indexer] = value instead\n",
      "\n",
      "See the caveats in the documentation: http://pandas.pydata.org/pandas-docs/stable/indexing.html#indexing-view-versus-copy\n",
      "  self.obj[key] = _infer_fill_value(value)\n",
      "C:\\ProgramData\\Anaconda3\\lib\\site-packages\\pandas\\core\\indexing.py:543: SettingWithCopyWarning: \n",
      "A value is trying to be set on a copy of a slice from a DataFrame.\n",
      "Try using .loc[row_indexer,col_indexer] = value instead\n",
      "\n",
      "See the caveats in the documentation: http://pandas.pydata.org/pandas-docs/stable/indexing.html#indexing-view-versus-copy\n",
      "  self.obj[item] = s\n"
     ]
    },
    {
     "data": {
      "text/html": [
       "<div>\n",
       "<style scoped>\n",
       "    .dataframe tbody tr th:only-of-type {\n",
       "        vertical-align: middle;\n",
       "    }\n",
       "\n",
       "    .dataframe tbody tr th {\n",
       "        vertical-align: top;\n",
       "    }\n",
       "\n",
       "    .dataframe thead th {\n",
       "        text-align: right;\n",
       "    }\n",
       "</style>\n",
       "<table border=\"1\" class=\"dataframe\">\n",
       "  <thead>\n",
       "    <tr style=\"text-align: right;\">\n",
       "      <th></th>\n",
       "      <th>user_id</th>\n",
       "      <th>movie_id</th>\n",
       "      <th>rating</th>\n",
       "      <th>unix_timestamp</th>\n",
       "      <th>recc_rating</th>\n",
       "      <th>item_recc_rating</th>\n",
       "    </tr>\n",
       "  </thead>\n",
       "  <tbody>\n",
       "    <tr>\n",
       "      <th>0</th>\n",
       "      <td>1</td>\n",
       "      <td>20</td>\n",
       "      <td>4</td>\n",
       "      <td>887431883</td>\n",
       "      <td>3.620435</td>\n",
       "      <td>3.523990</td>\n",
       "    </tr>\n",
       "    <tr>\n",
       "      <th>1</th>\n",
       "      <td>1</td>\n",
       "      <td>33</td>\n",
       "      <td>4</td>\n",
       "      <td>878542699</td>\n",
       "      <td>3.736847</td>\n",
       "      <td>3.546035</td>\n",
       "    </tr>\n",
       "    <tr>\n",
       "      <th>2</th>\n",
       "      <td>1</td>\n",
       "      <td>61</td>\n",
       "      <td>4</td>\n",
       "      <td>878542420</td>\n",
       "      <td>4.133316</td>\n",
       "      <td>3.546456</td>\n",
       "    </tr>\n",
       "    <tr>\n",
       "      <th>3</th>\n",
       "      <td>1</td>\n",
       "      <td>117</td>\n",
       "      <td>3</td>\n",
       "      <td>874965739</td>\n",
       "      <td>3.966798</td>\n",
       "      <td>3.554915</td>\n",
       "    </tr>\n",
       "    <tr>\n",
       "      <th>4</th>\n",
       "      <td>1</td>\n",
       "      <td>155</td>\n",
       "      <td>2</td>\n",
       "      <td>878542201</td>\n",
       "      <td>3.369923</td>\n",
       "      <td>3.543733</td>\n",
       "    </tr>\n",
       "  </tbody>\n",
       "</table>\n",
       "</div>"
      ],
      "text/plain": [
       "   user_id  movie_id  rating  unix_timestamp  recc_rating  item_recc_rating\n",
       "0        1        20       4       887431883     3.620435          3.523990\n",
       "1        1        33       4       878542699     3.736847          3.546035\n",
       "2        1        61       4       878542420     4.133316          3.546456\n",
       "3        1       117       3       874965739     3.966798          3.554915\n",
       "4        1       155       2       878542201     3.369923          3.543733"
      ]
     },
     "execution_count": 736,
     "metadata": {},
     "output_type": "execute_result"
    }
   ],
   "source": [
    "test.loc[:,'item_recc_rating'] = item_recc_rating\n",
    "test.head()"
   ]
  },
  {
   "cell_type": "markdown",
   "metadata": {},
   "source": [
    "#### Calculate RMSE for both the models"
   ]
  },
  {
   "cell_type": "code",
   "execution_count": 737,
   "metadata": {},
   "outputs": [
    {
     "name": "stdout",
     "output_type": "stream",
     "text": [
      "0.819297700815001\n",
      "0.9023497739293493\n"
     ]
    },
    {
     "data": {
      "text/plain": [
       "<matplotlib.axes._subplots.AxesSubplot at 0x1d493facfd0>"
      ]
     },
     "execution_count": 737,
     "metadata": {},
     "output_type": "execute_result"
    },
    {
     "data": {
      "image/png": "[encoded data removed]",
      "text/plain": [
       "<Figure size 432x288 with 1 Axes>"
      ]
     },
     "metadata": {
      "needs_background": "light"
     },
     "output_type": "display_data"
    }
   ],
   "source": [
    "\n",
    "RMSE_1 = math.sqrt(sum(((test.rating - test.recc_rating)**2))/test.shape[0])\n",
    "print(RMSE_1)\n",
    "\n",
    "RMSE_2 = math.sqrt(sum(((test.rating - test.item_recc_rating)**2))/test.shape[0])\n",
    "print(RMSE_2)\n",
    "\n",
    "model1 = ['Global Mean', 'Item-Item Coll Filt']\n",
    "model2 = [RMSE_1, RMSE_2]\n",
    "acc_df = pd.DataFrame(list(zip(model1,model2)), columns = ['Model Name', 'RMSE'])\n",
    "\n",
    "%matplotlib inline\n",
    "sns.barplot(acc_df['Model Name'], acc_df['RMSE'])"
   ]
  },
  {
   "cell_type": "markdown",
   "metadata": {},
   "source": [
    "### Conclusion\n",
    "\n",
    "#### From the above bar plot we can see that Global mean model have smaller RMSE than Item-Item colaborative filtering. This result is surprising since we expect Item-Item collaborative filtering model superior and more personalized than global mean model. \n",
    "\n",
    "#### In Data science world it is not very surprising to get such results. This is a typical case of underfitting or highly biased model. Since we are working on smaller dataset, complex models have tendancy to underfit. Simpler models like global mean works really well when data size is small. It is one of the reccomendations from Data Science community to go for a simpler model if data size is smaller.\n",
    "\n",
    "#### If we include more and more data to fit our models Item-Item collaborative filtering model will surpass the global mean model since it will improve on overall model fit. \n",
    "\n",
    "#### For now we will conclude our experient with the note that we have high bias in out Item-Item collaborative filtering model which we need to address by including more data"
   ]
  },
  {
   "cell_type": "code",
   "execution_count": null,
   "metadata": {},
   "outputs": [],
   "source": []
  }
 ],
 "metadata": {
  "kernelspec": {
   "display_name": "Python 3",
   "language": "python",
   "name": "python3"
  },
  "language_info": {
   "codemirror_mode": {
    "name": "ipython",
    "version": 3
   },
   "file_extension": ".py",
   "mimetype": "text/x-python",
   "name": "python",
   "nbconvert_exporter": "python",
   "pygments_lexer": "ipython3",
   "version": "3.7.3"
  }
 },
 "nbformat": 4,
 "nbformat_minor": 2
}
