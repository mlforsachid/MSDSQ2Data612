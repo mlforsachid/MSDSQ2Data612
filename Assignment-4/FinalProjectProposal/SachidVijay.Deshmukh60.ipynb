{
 "cells": [
  {
   "cell_type": "markdown",
   "metadata": {},
   "source": [
    "#### Name - Sachid Deshmukh\n",
    "#### Date - 07-02-2019\n",
    "#### Data-612 Final Project Proposal"
   ]
  },
  {
   "cell_type": "markdown",
   "metadata": {},
   "source": [
    "**Objective:**\n",
    "\n",
    "Build a recommender system to suggest new articles to users based on their past reading history and explicit feedback on articles.\n",
    "\n",
    "**Dataset:**\n",
    "\n",
    "To build this recommender system we will leverage article sharing and reading dataset from CI&T Deskdrop.\n",
    "Deskdrop is an internal communications platform developed by CI&T, focused in companies using Google G Suite. Among other features, this platform allows companies employees to share relevant articles with their peers, and collaborate around them.\n",
    "This rich and rare dataset contains a real sample of 12 months logs (Mar. 2016 - Feb. 2017) from CI&T's Internal Communication platform (DeskDrop).\n",
    "\n",
    "It contains about 73k logged users interactions on more than 3k public articles shared in the platform.\n",
    "This dataset features some distinctive characteristics:\n",
    "- Item attributes: Articles' original URL, title, and content plain text are available in two languages (English and Portuguese).\n",
    "- Contextual information: Context of the users visits, like date/time, client (mobile native app / browser) and geolocation.\n",
    "- Logged users: All users are required to login in the platform, providing a long-term tracking of users preferences (not depending on cookies in devices).\n",
    "- Rich implicit feedback: Different interaction types were logged, making it possible to infer the user's level of interest in the articles (eg. comments > likes > views).\n",
    "- Multi-platform: Users interactions were tracked in different platforms (web browsers and mobile native apps)\n",
    "\n",
    "**Approach:**\n",
    "\n",
    "In this project we will use three important methodologies to build recommender system and evaluate their performance\n",
    "\n",
    "- Collaborative Filtering – User-User collaborative filtering\n",
    "- Content Based Filtering – Leverage information and description of articles for recommendations\n",
    "- Hybrid – Combination of Collaborative Filtering and Content Based Filtering\n",
    "\n",
    "\n",
    "**Data Wrangling and Cleanup:**\n",
    "\n",
    "This project will demonstrate data cleanup and feature extractions from users activities on the articles. Users can perform various activities on the article and this data is available as user events. We will work on extracting meaningful features form various user events by demonstrating data wrangling and data cleanup methodologies.\n",
    "\n",
    "The eventType values are:\n",
    "- VIEW: The user has opened the article.\n",
    "- LIKE: The user has liked the article.\n",
    "- COMMENT CREATED: The user created a comment in the article.\n",
    "- FOLLOW: The user chose to be notified on any new comment in the article.\n",
    "- BOOKMARK: The user has bookmarked the article for easy return in the future.\n",
    "\n",
    "**Conclusion:**\n",
    "\n",
    "This project will be very good showcase of how to leverage raw data to build meaningful features for building efficient recommender systems. Goal of the project is to grab multiple data sources from Deskdrop and extract powerful features by extensive data wrangling and data cleanup techniques. Once we have final features, build three important recommender systems  and compare them in terms of efficiency using precision and recall\n",
    "\n",
    "- Collaborative Filtering\n",
    "- Content Based\n",
    "- Hybrid\n",
    "\n",
    "One of the biggest challenge of building recommender system is handling sparse data. This dataset is perfect example of that. This project will demonstrate various ways to reduce data sparseness, leverage SVDs to build latent factors and use such transformed data to build an effective recommender system and finally measure it’s efficiency\n",
    "\n",
    "\n",
    "\n",
    "\n",
    "\n",
    "\n"
   ]
  },
  {
   "cell_type": "code",
   "execution_count": null,
   "metadata": {},
   "outputs": [],
   "source": []
  }
 ],
 "metadata": {
  "kernelspec": {
   "display_name": "Python 3",
   "language": "python",
   "name": "python3"
  },
  "language_info": {
   "codemirror_mode": {
    "name": "ipython",
    "version": 3
   },
   "file_extension": ".py",
   "mimetype": "text/x-python",
   "name": "python",
   "nbconvert_exporter": "python",
   "pygments_lexer": "ipython3",
   "version": "3.7.3"
  }
 },
 "nbformat": 4,
 "nbformat_minor": 2
}
