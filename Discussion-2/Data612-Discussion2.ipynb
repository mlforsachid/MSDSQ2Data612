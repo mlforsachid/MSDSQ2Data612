{
 "cells": [
  {
   "cell_type": "markdown",
   "metadata": {},
   "source": [
    "Author started with different approaches to build recommendation system and their pros and cons. Few things I liked are\n",
    "1] Recommendation based on manual attribution - Not scalable\n",
    "2] Recommendation based on content - Need large feature sets\n",
    "3] Collaborative filtering - Popular approach to build recommendation systems\n",
    "\n",
    "In the later part of the video author focussed more on various approaches to build enterprise class ML system with big data. Some points that stands out are\n",
    "1] Hadoop has very high cost of IO\n",
    "2] Spark is very helpful in case of IO intensive operations\n",
    "3] Partitioning is very important while building highly scalable solution in Spark\n",
    "4] Solution with less shuffeling results in optimized runtime for the application"
   ]
  },
  {
   "cell_type": "code",
   "execution_count": null,
   "metadata": {},
   "outputs": [],
   "source": []
  }
 ],
 "metadata": {
  "kernelspec": {
   "display_name": "Python 3",
   "language": "python",
   "name": "python3"
  },
  "language_info": {
   "codemirror_mode": {
    "name": "ipython",
    "version": 3
   },
   "file_extension": ".py",
   "mimetype": "text/x-python",
   "name": "python",
   "nbconvert_exporter": "python",
   "pygments_lexer": "ipython3",
   "version": "3.6.8"
  }
 },
 "nbformat": 4,
 "nbformat_minor": 2
}
